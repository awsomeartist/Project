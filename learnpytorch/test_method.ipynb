{
 "metadata": {
  "language_info": {
   "codemirror_mode": {
    "name": "ipython",
    "version": 3
   },
   "file_extension": ".py",
   "mimetype": "text/x-python",
   "name": "python",
   "nbconvert_exporter": "python",
   "pygments_lexer": "ipython3",
   "version": "3.7.9"
  },
  "orig_nbformat": 2,
  "kernelspec": {
   "name": "python3",
   "display_name": "Python 3.7.9 64-bit ('pytorch': conda)",
   "metadata": {
    "interpreter": {
     "hash": "216535866d4b2bfe10db22ecccd61592cdd2edf245211f5c4d4932e554629d9e"
    }
   }
  }
 },
 "nbformat": 4,
 "nbformat_minor": 2,
 "cells": [
  {
   "cell_type": "code",
   "execution_count": 3,
   "metadata": {},
   "outputs": [
    {
     "output_type": "stream",
     "name": "stdout",
     "text": [
      "000100\n+00100\n+100\n"
     ]
    }
   ],
   "source": [
    "#python zfill\n",
    "s = '100'\n",
    "print(s.zfill(6))\n",
    "\n",
    "s = '+100'\n",
    "print(s.zfill(6))\n",
    "\n",
    "s = '+100'\n",
    "print(s.zfill(3))\n"
   ]
  },
  {
   "cell_type": "code",
   "execution_count": 4,
   "metadata": {},
   "outputs": [
    {
     "output_type": "execute_result",
     "data": {
      "text/plain": [
       "'c:\\\\Users\\\\liang\\\\Desktop\\\\Graduate Works\\\\Project\\\\Learn-DL\\\\learnpytorch\\\\../..'"
      ]
     },
     "metadata": {},
     "execution_count": 4
    }
   ],
   "source": [
    "os.path.join(os.getcwd(), \"../..\")"
   ]
  },
  {
   "cell_type": "code",
   "execution_count": 1,
   "metadata": {},
   "outputs": [
    {
     "output_type": "stream",
     "name": "stdout",
     "text": [
      "c:\\Users\\liang\\Desktop\\Graduate Works\\Project\n"
     ]
    }
   ],
   "source": [
    "    \n",
    "data_root = os.path.abspath(os.path.join(os.getcwd(), \"../..\"))  # get data root path\n",
    "print(data_root)\n"
   ]
  },
  {
   "cell_type": "code",
   "execution_count": 3,
   "metadata": {},
   "outputs": [
    {
     "output_type": "execute_result",
     "data": {
      "text/plain": [
       "'c:\\\\Users\\\\liang\\\\Desktop\\\\Graduate Works\\\\Project'"
      ]
     },
     "metadata": {},
     "execution_count": 3
    }
   ],
   "source": [
    "os.path.abspath('c:\\\\Users\\\\liang\\\\Desktop\\\\Graduate Works\\\\Project\\\\Learn-DL\\\\learnpytorch\\\\../..')"
   ]
  },
  {
   "cell_type": "code",
   "execution_count": 5,
   "metadata": {},
   "outputs": [
    {
     "output_type": "stream",
     "name": "stdout",
     "text": [
      "c:\\Users\\liang\\Desktop\\Graduate Works\\Project\n"
     ]
    }
   ],
   "source": [
    "print(os.path.abspath(os.path.join(os.getcwd(), \"../..\")))"
   ]
  },
  {
   "source": [
    "with open('class_indices.json', 'w') as json_file:\n",
    "        json_file.write('str')"
   ],
   "cell_type": "code",
   "metadata": {},
   "execution_count": null,
   "outputs": []
  },
  {
   "cell_type": "code",
   "execution_count": null,
   "metadata": {},
   "outputs": [],
   "source": []
  }
 ]
}